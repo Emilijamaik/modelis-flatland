{
  "cells": [
    {
      "cell_type": "code",
      "execution_count": 1,
      "id": "2ed4d4f5",
      "metadata": {
        "id": "2ed4d4f5"
      },
      "outputs": [],
      "source": [
        "import gzip\n",
        "import pickle\n",
        "from tensorflow import keras\n",
        "import numpy as np\n",
        "import matplotlib.pyplot as plt\n",
        "\n",
        "def evaluate(path, model):\n",
        "    X, y = pickle.load(gzip.open(path, 'rb'))\n",
        "    y[y != 0] -= 2\n",
        "    X = X / 255.\n",
        "    acc = np.mean(model(X).numpy().argmax(axis=1) == y)\n",
        "    return acc"
      ]
    },
    {
      "cell_type": "markdown",
      "id": "13b28fec",
      "metadata": {
        "id": "13b28fec"
      },
      "source": [
        "# Loading data"
      ]
    },
    {
      "cell_type": "code",
      "execution_count": 2,
      "id": "d20f5725",
      "metadata": {
        "id": "d20f5725"
      },
      "outputs": [],
      "source": [
        "path = 'flatland_train.data'\n",
        "X,y = pickle.load(gzip.open(path,'rb')) #(1000,50,50)\n",
        "\n",
        "# data pre-proc\n",
        "y[y != 0] -= 2\n",
        "X = X / 255."
      ]
    },
    {
      "cell_type": "markdown",
      "source": [
        "Pasidaliname duomenis į train ir test splitus proporcija train:test = 7:3"
      ],
      "metadata": {
        "id": "l1LiLWSkmLnJ"
      },
      "id": "l1LiLWSkmLnJ"
    },
    {
      "cell_type": "code",
      "source": [
        "from sklearn.model_selection import train_test_split\n",
        "\n",
        "X_train, X_test, y_train, y_test = train_test_split(X,y,test_size = 0.3,random_state = 42) # nepadalinti (1000,50,50)"
      ],
      "metadata": {
        "id": "zh1BwdBXbYcX"
      },
      "id": "zh1BwdBXbYcX",
      "execution_count": 3,
      "outputs": []
    },
    {
      "cell_type": "code",
      "source": [
        "X_train.shape"
      ],
      "metadata": {
        "colab": {
          "base_uri": "https://localhost:8080/"
        },
        "id": "TEjjyrog5ZZh",
        "outputId": "b2c7c731-ce06-4a26-d63e-1b183de938c8"
      },
      "id": "TEjjyrog5ZZh",
      "execution_count": 4,
      "outputs": [
        {
          "output_type": "execute_result",
          "data": {
            "text/plain": [
              "(7000, 50, 50)"
            ]
          },
          "metadata": {},
          "execution_count": 4
        }
      ]
    },
    {
      "cell_type": "code",
      "source": [
        "X_test.shape"
      ],
      "metadata": {
        "colab": {
          "base_uri": "https://localhost:8080/"
        },
        "id": "7LNWCb7T_kvH",
        "outputId": "0fce160d-68ab-41b7-b2ef-b8fd38f6cffd"
      },
      "id": "7LNWCb7T_kvH",
      "execution_count": 5,
      "outputs": [
        {
          "output_type": "execute_result",
          "data": {
            "text/plain": [
              "(3000, 50, 50)"
            ]
          },
          "metadata": {},
          "execution_count": 5
        }
      ]
    },
    {
      "cell_type": "markdown",
      "source": [
        "Galime kaip darėme su fashion MNIST dataset'u, pasibraižyti figūrų ir po keletą pavyzdžių iš kiekvienos klasės:"
      ],
      "metadata": {
        "id": "a6LNJDdPmbsJ"
      },
      "id": "a6LNJDdPmbsJ"
    },
    {
      "cell_type": "code",
      "source": [
        "plt.imshow(X_test[0],cmap='gray')"
      ],
      "metadata": {
        "colab": {
          "base_uri": "https://localhost:8080/",
          "height": 284
        },
        "id": "LwXWHE8-70Dp",
        "outputId": "22680b89-c7cd-46e8-8a16-538ede49ea6a"
      },
      "id": "LwXWHE8-70Dp",
      "execution_count": null,
      "outputs": [
        {
          "output_type": "execute_result",
          "data": {
            "text/plain": [
              "<matplotlib.image.AxesImage at 0x7f7755a68ed0>"
            ]
          },
          "metadata": {},
          "execution_count": 6
        },
        {
          "output_type": "display_data",
          "data": {
            "image/png": "[encoded data removed]",
            "text/plain": [
              "<Figure size 432x288 with 1 Axes>"
            ]
          },
          "metadata": {
            "needs_background": "light"
          }
        }
      ]
    },
    {
      "cell_type": "code",
      "source": [
        "plt.figure(figsize=(10, 10))\n",
        "for i in range(10):\n",
        "        plt.subplot(10, 10, 10 + i + 1)\n",
        "        plt.imshow(X_test[i], cmap='gray')\n",
        "        plt.axis('off')\n",
        "plt.show()"
      ],
      "metadata": {
        "colab": {
          "base_uri": "https://localhost:8080/",
          "height": 77
        },
        "id": "HLEBYIZe8A1i",
        "outputId": "b252e166-2e8c-49ba-942c-8f8d4669b643"
      },
      "id": "HLEBYIZe8A1i",
      "execution_count": null,
      "outputs": [
        {
          "output_type": "display_data",
          "data": {
            "image/png": "[encoded data removed]",
            "text/plain": [
              "<Figure size 720x720 with 10 Axes>"
            ]
          },
          "metadata": {
            "needs_background": "light"
          }
        }
      ]
    },
    {
      "cell_type": "markdown",
      "source": [
        "Kiek turim klasių?"
      ],
      "metadata": {
        "id": "vjHh9CVwmpSc"
      },
      "id": "vjHh9CVwmpSc"
    },
    {
      "cell_type": "code",
      "source": [
        "from collections import Counter \n",
        "\n",
        "Counter(y)"
      ],
      "metadata": {
        "colab": {
          "base_uri": "https://localhost:8080/"
        },
        "id": "mxXizhJf8d3c",
        "outputId": "74191e59-745e-4b09-b8de-a92bfb0db5aa"
      },
      "id": "mxXizhJf8d3c",
      "execution_count": null,
      "outputs": [
        {
          "output_type": "execute_result",
          "data": {
            "text/plain": [
              "Counter({0.0: 1381, 1.0: 2853, 2.0: 1868, 3.0: 2137, 4.0: 1761})"
            ]
          },
          "metadata": {},
          "execution_count": 8
        }
      ]
    },
    {
      "cell_type": "markdown",
      "source": [
        "Turime 5 klases, iš jų kiekvienos po figūrą:"
      ],
      "metadata": {
        "id": "gNM7ElBBmtGF"
      },
      "id": "gNM7ElBBmtGF"
    },
    {
      "cell_type": "code",
      "source": [
        "for i in range(5):\n",
        "    idx= np.where(y_train == i)[0][0]\n",
        "    plt.subplot(1,5,i+1)\n",
        "    plt.imshow(X_train[idx],cmap='gray')\n",
        "    plt.title(i)\n",
        "    plt.axis('off')\n",
        "plt.show() # padarem po viena skirtinga is kiekvienos klases"
      ],
      "metadata": {
        "colab": {
          "base_uri": "https://localhost:8080/",
          "height": 105
        },
        "id": "0tlIqgea8hF5",
        "outputId": "bde576d8-be55-491e-90ee-4d409b7600cc"
      },
      "id": "0tlIqgea8hF5",
      "execution_count": null,
      "outputs": [
        {
          "output_type": "display_data",
          "data": {
            "image/png": "[encoded data removed]",
            "text/plain": [
              "<Figure size 432x288 with 5 Axes>"
            ]
          },
          "metadata": {
            "needs_background": "light"
          }
        }
      ]
    },
    {
      "cell_type": "markdown",
      "id": "a6901dd4",
      "metadata": {
        "id": "a6901dd4"
      },
      "source": [
        "# DNN\n",
        "Bandome konstruoti modelį su DNN"
      ]
    },
    {
      "cell_type": "code",
      "source": [
        "keras.layers.Dense?"
      ],
      "metadata": {
        "id": "sVRBfF6wRIdx"
      },
      "id": "sVRBfF6wRIdx",
      "execution_count": null,
      "outputs": []
    },
    {
      "cell_type": "code",
      "source": [
        "model = keras.models.Sequential()\n",
        "# all data pre-processing should be in keras model!\n",
        "model.add(keras.layers.Flatten(input_shape=(50,50)))\n",
        "model.add(keras.layers.Dense(320,activation='relu')) \n",
        "model.add(keras.layers.Dense(160,activation='relu')) \n",
        "model.add(keras.layers.Dense(80,activation='relu')) \n",
        "model.add(keras.layers.Dense(40,activation='relu')) \n",
        "model.add(keras.layers.Dense(20,activation='relu'))\n",
        "model.add(keras.layers.Dense(10,activation='softmax')) \n",
        "model.compile(loss='sparse_categorical_crossentropy',\n",
        "             #optimizer='adam', #NAUJAS OPTIMIZERIS, GALI LABAI PADET!!!\n",
        "             optimizer = keras.optimizers.Adam(learning_rate=3e-4),\n",
        "              metrics=['accuracy'])\n",
        "#if you use categorical_crossentropy then it expects one hot encoded output\n",
        "model.summary()\n"
      ],
      "metadata": {
        "colab": {
          "base_uri": "https://localhost:8080/"
        },
        "id": "O_4BbFk8AEO6",
        "outputId": "363dbc6a-221d-44dd-d684-bb63b940d26d"
      },
      "id": "O_4BbFk8AEO6",
      "execution_count": null,
      "outputs": [
        {
          "output_type": "stream",
          "name": "stdout",
          "text": [
            "Model: \"sequential_10\"\n",
            "_________________________________________________________________\n",
            " Layer (type)                Output Shape              Param #   \n",
            "=================================================================\n",
            " flatten_10 (Flatten)        (None, 2500)              0         \n",
            "                                                                 \n",
            " dense_51 (Dense)            (None, 320)               800320    \n",
            "                                                                 \n",
            " dense_52 (Dense)            (None, 160)               51360     \n",
            "                                                                 \n",
            " dense_53 (Dense)            (None, 80)                12880     \n",
            "                                                                 \n",
            " dense_54 (Dense)            (None, 40)                3240      \n",
            "                                                                 \n",
            " dense_55 (Dense)            (None, 20)                820       \n",
            "                                                                 \n",
            " dense_56 (Dense)            (None, 10)                210       \n",
            "                                                                 \n",
            "=================================================================\n",
            "Total params: 868,830\n",
            "Trainable params: 868,830\n",
            "Non-trainable params: 0\n",
            "_________________________________________________________________\n"
          ]
        }
      ]
    },
    {
      "cell_type": "code",
      "source": [
        "loss = model.fit(X_train, y_train, validation_data=(X_test, y_test), epochs=25)"
      ],
      "metadata": {
        "colab": {
          "base_uri": "https://localhost:8080/"
        },
        "id": "XMCp0h14AMe5",
        "outputId": "dc8de2f3-2d87-4341-d929-f2ee585014b2"
      },
      "id": "XMCp0h14AMe5",
      "execution_count": null,
      "outputs": [
        {
          "output_type": "stream",
          "name": "stdout",
          "text": [
            "Epoch 1/25\n",
            "219/219 [==============================] - 2s 7ms/step - loss: 1.7339 - accuracy: 0.3726 - val_loss: 1.2600 - val_accuracy: 0.4843\n",
            "Epoch 2/25\n",
            "219/219 [==============================] - 1s 6ms/step - loss: 1.1564 - accuracy: 0.5129 - val_loss: 1.0968 - val_accuracy: 0.5257\n",
            "Epoch 3/25\n",
            "219/219 [==============================] - 1s 5ms/step - loss: 0.9800 - accuracy: 0.5861 - val_loss: 0.9766 - val_accuracy: 0.5717\n",
            "Epoch 4/25\n",
            "219/219 [==============================] - 1s 5ms/step - loss: 0.8133 - accuracy: 0.6567 - val_loss: 0.8801 - val_accuracy: 0.6170\n",
            "Epoch 5/25\n",
            "219/219 [==============================] - 1s 6ms/step - loss: 0.6922 - accuracy: 0.7136 - val_loss: 0.8388 - val_accuracy: 0.6547\n",
            "Epoch 6/25\n",
            "219/219 [==============================] - 1s 6ms/step - loss: 0.6349 - accuracy: 0.7386 - val_loss: 0.7500 - val_accuracy: 0.6847\n",
            "Epoch 7/25\n",
            "219/219 [==============================] - 1s 5ms/step - loss: 0.5849 - accuracy: 0.7609 - val_loss: 0.6709 - val_accuracy: 0.7253\n",
            "Epoch 8/25\n",
            "219/219 [==============================] - 1s 5ms/step - loss: 0.5412 - accuracy: 0.7756 - val_loss: 0.8251 - val_accuracy: 0.6627\n",
            "Epoch 9/25\n",
            "219/219 [==============================] - 1s 5ms/step - loss: 0.5044 - accuracy: 0.7967 - val_loss: 0.6555 - val_accuracy: 0.7297\n",
            "Epoch 10/25\n",
            "219/219 [==============================] - 1s 5ms/step - loss: 0.4645 - accuracy: 0.8139 - val_loss: 0.6156 - val_accuracy: 0.7540\n",
            "Epoch 11/25\n",
            "219/219 [==============================] - 1s 5ms/step - loss: 0.4375 - accuracy: 0.8237 - val_loss: 0.6605 - val_accuracy: 0.7460\n",
            "Epoch 12/25\n",
            "219/219 [==============================] - 1s 5ms/step - loss: 0.4179 - accuracy: 0.8274 - val_loss: 0.6537 - val_accuracy: 0.7587\n",
            "Epoch 13/25\n",
            "219/219 [==============================] - 1s 5ms/step - loss: 0.3855 - accuracy: 0.8434 - val_loss: 0.5817 - val_accuracy: 0.7760\n",
            "Epoch 14/25\n",
            "219/219 [==============================] - 1s 5ms/step - loss: 0.3656 - accuracy: 0.8540 - val_loss: 0.5816 - val_accuracy: 0.7790\n",
            "Epoch 15/25\n",
            "219/219 [==============================] - 1s 6ms/step - loss: 0.3322 - accuracy: 0.8661 - val_loss: 0.5301 - val_accuracy: 0.8067\n",
            "Epoch 16/25\n",
            "219/219 [==============================] - 1s 5ms/step - loss: 0.3116 - accuracy: 0.8800 - val_loss: 0.5422 - val_accuracy: 0.8107\n",
            "Epoch 17/25\n",
            "219/219 [==============================] - 1s 6ms/step - loss: 0.2759 - accuracy: 0.8953 - val_loss: 0.4994 - val_accuracy: 0.8387\n",
            "Epoch 18/25\n",
            "219/219 [==============================] - 1s 6ms/step - loss: 0.2510 - accuracy: 0.9080 - val_loss: 0.5508 - val_accuracy: 0.8007\n",
            "Epoch 19/25\n",
            "219/219 [==============================] - 1s 6ms/step - loss: 0.2442 - accuracy: 0.9079 - val_loss: 0.6319 - val_accuracy: 0.7740\n",
            "Epoch 20/25\n",
            "219/219 [==============================] - 1s 5ms/step - loss: 0.2242 - accuracy: 0.9187 - val_loss: 0.4893 - val_accuracy: 0.8453\n",
            "Epoch 21/25\n",
            "219/219 [==============================] - 1s 6ms/step - loss: 0.2245 - accuracy: 0.9144 - val_loss: 0.4981 - val_accuracy: 0.8400\n",
            "Epoch 22/25\n",
            "219/219 [==============================] - 1s 6ms/step - loss: 0.2022 - accuracy: 0.9253 - val_loss: 0.5048 - val_accuracy: 0.8427\n",
            "Epoch 23/25\n",
            "219/219 [==============================] - 1s 5ms/step - loss: 0.1717 - accuracy: 0.9406 - val_loss: 0.4860 - val_accuracy: 0.8540\n",
            "Epoch 24/25\n",
            "219/219 [==============================] - 1s 6ms/step - loss: 0.1623 - accuracy: 0.9454 - val_loss: 0.5034 - val_accuracy: 0.8563\n",
            "Epoch 25/25\n",
            "219/219 [==============================] - 1s 6ms/step - loss: 0.1522 - accuracy: 0.9476 - val_loss: 0.5008 - val_accuracy: 0.8573\n"
          ]
        }
      ]
    },
    {
      "cell_type": "code",
      "source": [
        "pred = model.predict(X_test).argmax(axis=1)\n",
        "\n",
        "print('Accuracy on test set - {0:.02%}'.format((pred == y_test).mean()))"
      ],
      "metadata": {
        "colab": {
          "base_uri": "https://localhost:8080/"
        },
        "id": "a--KwG8soUwv",
        "outputId": "8198337a-9f69-4cdb-fa5c-395de8057f59"
      },
      "id": "a--KwG8soUwv",
      "execution_count": null,
      "outputs": [
        {
          "output_type": "stream",
          "name": "stdout",
          "text": [
            "Accuracy on test set - 85.73%\n"
          ]
        }
      ]
    },
    {
      "cell_type": "markdown",
      "source": [
        "Gauname apie 86% tikslumą su simple test set, išsisaugome modelį"
      ],
      "metadata": {
        "id": "NrxPM73Gnnfn"
      },
      "id": "NrxPM73Gnnfn"
    },
    {
      "cell_type": "code",
      "execution_count": null,
      "id": "86f0c95a",
      "metadata": {
        "id": "86f0c95a"
      },
      "outputs": [],
      "source": [
        "model.save('model.h5')"
      ]
    },
    {
      "cell_type": "markdown",
      "id": "981c48cb",
      "metadata": {
        "id": "981c48cb"
      },
      "source": [
        "\n",
        "## Test your model!!!"
      ]
    },
    {
      "cell_type": "code",
      "execution_count": null,
      "id": "a7db4e3e",
      "metadata": {
        "colab": {
          "base_uri": "https://localhost:8080/"
        },
        "id": "a7db4e3e",
        "outputId": "8e0256dc-07ad-4a2d-bb83-8ed1291ba388"
      },
      "outputs": [
        {
          "output_type": "execute_result",
          "data": {
            "text/plain": [
              "0.9264"
            ]
          },
          "metadata": {},
          "execution_count": 65
        }
      ],
      "source": [
        "model = keras.models.load_model('model.h5')\n",
        "evaluate('flatland_train.data', model)"
      ]
    },
    {
      "cell_type": "markdown",
      "source": [
        "Gautas tikslumas ant train set'o yra apie 92%, galime bandyti pamodifikuoti modelį, bandydami gauti geresnį rezultatą"
      ],
      "metadata": {
        "id": "zhtYkt5cn-Bi"
      },
      "id": "zhtYkt5cn-Bi"
    },
    {
      "cell_type": "code",
      "execution_count": null,
      "id": "ef80b5fe",
      "metadata": {
        "colab": {
          "base_uri": "https://localhost:8080/"
        },
        "id": "ef80b5fe",
        "outputId": "7bce5d05-96e0-4567-ff74-39bef2b31d95"
      },
      "outputs": [
        {
          "output_type": "stream",
          "name": "stdout",
          "text": [
            "Model: \"sequential_11\"\n",
            "_________________________________________________________________\n",
            " Layer (type)                Output Shape              Param #   \n",
            "=================================================================\n",
            " flatten_11 (Flatten)        (None, 2500)              0         \n",
            "                                                                 \n",
            " dense_57 (Dense)            (None, 512)               1280512   \n",
            "                                                                 \n",
            " dense_58 (Dense)            (None, 256)               131328    \n",
            "                                                                 \n",
            " dense_59 (Dense)            (None, 128)               32896     \n",
            "                                                                 \n",
            " dense_60 (Dense)            (None, 64)                8256      \n",
            "                                                                 \n",
            " dense_61 (Dense)            (None, 10)                650       \n",
            "                                                                 \n",
            "=================================================================\n",
            "Total params: 1,453,642\n",
            "Trainable params: 1,453,642\n",
            "Non-trainable params: 0\n",
            "_________________________________________________________________\n"
          ]
        }
      ],
      "source": [
        "model = keras.models.Sequential()\n",
        "# all data pre-processing should be in keras model!\n",
        "model.add(keras.layers.Flatten(input_shape=(50,50)))\n",
        "model.add(keras.layers.Dense(512,activation='relu')) \n",
        "model.add(keras.layers.Dense(256,activation='relu')) \n",
        "# model.add(keras.layers.Dropout(0.4))\n",
        "model.add(keras.layers.Dense(128,activation='relu')) \n",
        "# model.add(keras.layers.Dropout(0.4))\n",
        "model.add(keras.layers.Dense(64,activation='relu'))\n",
        "# model.add(keras.layers.Dropout(0.4))\n",
        "model.add(keras.layers.Dense(10,activation='softmax')) \n",
        "model.compile(loss='sparse_categorical_crossentropy',\n",
        "             #optimizer='adam', #NAUJAS OPTIMIZERIS, GALI LABAI PADET!!!\n",
        "             optimizer = keras.optimizers.Adam(learning_rate=3e-4),\n",
        "              metrics=['accuracy'])\n",
        "#if you use categorical_crossentropy then it expects one hot encoded output\n",
        "model.summary()"
      ]
    },
    {
      "cell_type": "code",
      "source": [
        "loss = model.fit(X_train, y_train, validation_data=(X_test, y_test), epochs=23)"
      ],
      "metadata": {
        "colab": {
          "base_uri": "https://localhost:8080/"
        },
        "id": "llqqOwy0pzx5",
        "outputId": "dc7f92ec-731d-4054-83a2-a5b713a98f38"
      },
      "id": "llqqOwy0pzx5",
      "execution_count": null,
      "outputs": [
        {
          "output_type": "stream",
          "name": "stdout",
          "text": [
            "Epoch 1/23\n",
            "219/219 [==============================] - 2s 7ms/step - loss: 1.3545 - accuracy: 0.4349 - val_loss: 1.2091 - val_accuracy: 0.5067\n",
            "Epoch 2/23\n",
            "219/219 [==============================] - 1s 6ms/step - loss: 1.0678 - accuracy: 0.5540 - val_loss: 1.0280 - val_accuracy: 0.5740\n",
            "Epoch 3/23\n",
            "219/219 [==============================] - 1s 6ms/step - loss: 0.8280 - accuracy: 0.6584 - val_loss: 0.8067 - val_accuracy: 0.6537\n",
            "Epoch 4/23\n",
            "219/219 [==============================] - 1s 6ms/step - loss: 0.6752 - accuracy: 0.7279 - val_loss: 0.7418 - val_accuracy: 0.6777\n",
            "Epoch 5/23\n",
            "219/219 [==============================] - 1s 6ms/step - loss: 0.5897 - accuracy: 0.7584 - val_loss: 0.6611 - val_accuracy: 0.7363\n",
            "Epoch 6/23\n",
            "219/219 [==============================] - 1s 6ms/step - loss: 0.5486 - accuracy: 0.7744 - val_loss: 0.6436 - val_accuracy: 0.7293\n",
            "Epoch 7/23\n",
            "219/219 [==============================] - 1s 6ms/step - loss: 0.5007 - accuracy: 0.7924 - val_loss: 0.6753 - val_accuracy: 0.7207\n",
            "Epoch 8/23\n",
            "219/219 [==============================] - 1s 6ms/step - loss: 0.4588 - accuracy: 0.8121 - val_loss: 0.6015 - val_accuracy: 0.7543\n",
            "Epoch 9/23\n",
            "219/219 [==============================] - 1s 6ms/step - loss: 0.4285 - accuracy: 0.8181 - val_loss: 0.5769 - val_accuracy: 0.7627\n",
            "Epoch 10/23\n",
            "219/219 [==============================] - 1s 6ms/step - loss: 0.4074 - accuracy: 0.8304 - val_loss: 0.6084 - val_accuracy: 0.7633\n",
            "Epoch 11/23\n",
            "219/219 [==============================] - 1s 6ms/step - loss: 0.3820 - accuracy: 0.8389 - val_loss: 0.6027 - val_accuracy: 0.7620\n",
            "Epoch 12/23\n",
            "219/219 [==============================] - 1s 6ms/step - loss: 0.3477 - accuracy: 0.8559 - val_loss: 0.6077 - val_accuracy: 0.7727\n",
            "Epoch 13/23\n",
            "219/219 [==============================] - 1s 6ms/step - loss: 0.3180 - accuracy: 0.8657 - val_loss: 0.5376 - val_accuracy: 0.7997\n",
            "Epoch 14/23\n",
            "219/219 [==============================] - 1s 6ms/step - loss: 0.2866 - accuracy: 0.8851 - val_loss: 0.6054 - val_accuracy: 0.7907\n",
            "Epoch 15/23\n",
            "219/219 [==============================] - 1s 6ms/step - loss: 0.2952 - accuracy: 0.8794 - val_loss: 0.6455 - val_accuracy: 0.7727\n",
            "Epoch 16/23\n",
            "219/219 [==============================] - 1s 6ms/step - loss: 0.2641 - accuracy: 0.8947 - val_loss: 0.5814 - val_accuracy: 0.8047\n",
            "Epoch 17/23\n",
            "219/219 [==============================] - 1s 6ms/step - loss: 0.2291 - accuracy: 0.9119 - val_loss: 0.5227 - val_accuracy: 0.8397\n",
            "Epoch 18/23\n",
            "219/219 [==============================] - 1s 6ms/step - loss: 0.1976 - accuracy: 0.9233 - val_loss: 0.5773 - val_accuracy: 0.8300\n",
            "Epoch 19/23\n",
            "219/219 [==============================] - 1s 6ms/step - loss: 0.1956 - accuracy: 0.9256 - val_loss: 0.5249 - val_accuracy: 0.8420\n",
            "Epoch 20/23\n",
            "219/219 [==============================] - 1s 6ms/step - loss: 0.1657 - accuracy: 0.9347 - val_loss: 0.6373 - val_accuracy: 0.8190\n",
            "Epoch 21/23\n",
            "219/219 [==============================] - 1s 6ms/step - loss: 0.1649 - accuracy: 0.9390 - val_loss: 0.4871 - val_accuracy: 0.8673\n",
            "Epoch 22/23\n",
            "219/219 [==============================] - 1s 6ms/step - loss: 0.1399 - accuracy: 0.9477 - val_loss: 0.4849 - val_accuracy: 0.8773\n",
            "Epoch 23/23\n",
            "219/219 [==============================] - 1s 6ms/step - loss: 0.1309 - accuracy: 0.9533 - val_loss: 0.5140 - val_accuracy: 0.8590\n"
          ]
        }
      ]
    },
    {
      "cell_type": "code",
      "source": [
        "pred = model.predict(X_test).argmax(axis=1)\n",
        "\n",
        "print('Accuracy on test set - {0:.02%}'.format((pred == y_test).mean()))"
      ],
      "metadata": {
        "colab": {
          "base_uri": "https://localhost:8080/"
        },
        "id": "1AvBDmgAp5QC",
        "outputId": "2333930e-4c56-4257-e20f-e1ccb9c27db7"
      },
      "id": "1AvBDmgAp5QC",
      "execution_count": null,
      "outputs": [
        {
          "output_type": "stream",
          "name": "stdout",
          "text": [
            "Accuracy on test set - 85.90%\n"
          ]
        }
      ]
    },
    {
      "cell_type": "code",
      "execution_count": null,
      "id": "663298d7",
      "metadata": {
        "id": "663298d7"
      },
      "outputs": [],
      "source": [
        "import pandas as pd"
      ]
    },
    {
      "cell_type": "markdown",
      "id": "e20154c2",
      "metadata": {
        "id": "e20154c2"
      },
      "source": [
        "Pakaitaliojam learning rate optimizeryje "
      ]
    },
    {
      "cell_type": "markdown",
      "id": "0b39802d",
      "metadata": {
        "id": "0b39802d"
      },
      "source": [
        "Bandom overfittint"
      ]
    },
    {
      "cell_type": "code",
      "execution_count": null,
      "id": "1be5521d",
      "metadata": {
        "id": "1be5521d",
        "colab": {
          "base_uri": "https://localhost:8080/",
          "height": 284
        },
        "outputId": "d57efb57-0ce9-45f2-a9ed-1166f7613a9a"
      },
      "outputs": [
        {
          "output_type": "execute_result",
          "data": {
            "text/plain": [
              "<matplotlib.axes._subplots.AxesSubplot at 0x7f2273b8dfd0>"
            ]
          },
          "metadata": {},
          "execution_count": 70
        },
        {
          "output_type": "display_data",
          "data": {
            "image/png": "[encoded data removed]",
            "text/plain": [
              "<Figure size 432x288 with 1 Axes>"
            ]
          },
          "metadata": {
            "needs_background": "light"
          }
        }
      ],
      "source": [
        "pd.DataFrame(loss.history)[['loss','val_loss']].plot()"
      ]
    },
    {
      "cell_type": "markdown",
      "id": "41a3ceb1",
      "metadata": {
        "id": "41a3ceb1"
      },
      "source": [
        "# Bandom su dropoutu"
      ]
    },
    {
      "cell_type": "code",
      "execution_count": null,
      "id": "69a9879f",
      "metadata": {
        "id": "69a9879f"
      },
      "outputs": [],
      "source": [
        "keras.layers.Dropout?"
      ]
    },
    {
      "cell_type": "code",
      "execution_count": null,
      "id": "a60812f9",
      "metadata": {
        "id": "a60812f9"
      },
      "outputs": [],
      "source": [
        "loss = model.fit(X_train, y_train, validation_data=(X_test, y_test), epochs=50,\n",
        "                batch_size=156)\n",
        "pd.DataFrame(loss.history)[['loss','val_loss']].plot()"
      ]
    },
    {
      "cell_type": "markdown",
      "source": [
        "# CNN"
      ],
      "metadata": {
        "id": "uHNkAcSIsaJW"
      },
      "id": "uHNkAcSIsaJW"
    },
    {
      "cell_type": "code",
      "execution_count": null,
      "id": "53ad9b60",
      "metadata": {
        "id": "53ad9b60",
        "colab": {
          "base_uri": "https://localhost:8080/"
        },
        "outputId": "922eb12b-a241-46be-a9c8-65887325e781"
      },
      "outputs": [
        {
          "output_type": "stream",
          "name": "stdout",
          "text": [
            "Model: \"sequential_3\"\n",
            "_________________________________________________________________\n",
            " Layer (type)                Output Shape              Param #   \n",
            "=================================================================\n",
            " conv2d_13 (Conv2D)          (None, 48, 48, 32)        320       \n",
            "                                                                 \n",
            " batch_normalization_12 (Bat  (None, 48, 48, 32)       128       \n",
            " chNormalization)                                                \n",
            "                                                                 \n",
            " max_pooling2d_12 (MaxPoolin  (None, 24, 24, 32)       0         \n",
            " g2D)                                                            \n",
            "                                                                 \n",
            " conv2d_14 (Conv2D)          (None, 22, 22, 64)        18496     \n",
            "                                                                 \n",
            " max_pooling2d_13 (MaxPoolin  (None, 11, 11, 64)       0         \n",
            " g2D)                                                            \n",
            "                                                                 \n",
            " batch_normalization_13 (Bat  (None, 11, 11, 64)       256       \n",
            " chNormalization)                                                \n",
            "                                                                 \n",
            " conv2d_15 (Conv2D)          (None, 9, 9, 128)         73856     \n",
            "                                                                 \n",
            " max_pooling2d_14 (MaxPoolin  (None, 4, 4, 128)        0         \n",
            " g2D)                                                            \n",
            "                                                                 \n",
            " batch_normalization_14 (Bat  (None, 4, 4, 128)        512       \n",
            " chNormalization)                                                \n",
            "                                                                 \n",
            " conv2d_16 (Conv2D)          (None, 2, 2, 256)         295168    \n",
            "                                                                 \n",
            " max_pooling2d_15 (MaxPoolin  (None, 1, 1, 256)        0         \n",
            " g2D)                                                            \n",
            "                                                                 \n",
            " batch_normalization_15 (Bat  (None, 1, 1, 256)        1024      \n",
            " chNormalization)                                                \n",
            "                                                                 \n",
            " flatten_2 (Flatten)         (None, 256)               0         \n",
            "                                                                 \n",
            " dense_6 (Dense)             (None, 32)                8224      \n",
            "                                                                 \n",
            " dense_7 (Dense)             (None, 16)                528       \n",
            "                                                                 \n",
            " dense_8 (Dense)             (None, 8)                 136       \n",
            "                                                                 \n",
            "=================================================================\n",
            "Total params: 398,648\n",
            "Trainable params: 397,688\n",
            "Non-trainable params: 960\n",
            "_________________________________________________________________\n"
          ]
        }
      ],
      "source": [
        "model = keras.models.Sequential()\n",
        "model.add(keras.layers.Conv2D(32, kernel_size=(3, 3), activation='relu', input_shape=[50, 50, 1])) \n",
        "model.add(keras.layers.BatchNormalization(axis=-1)) \n",
        "model.add(keras.layers.MaxPooling2D(pool_size=(2, 2)))\n",
        "model.add(keras.layers.Conv2D(64, kernel_size=(3, 3), activation='relu'))  \n",
        "model.add(keras.layers.MaxPooling2D(pool_size=(2, 2)))\n",
        "model.add(keras.layers.BatchNormalization(axis=-1))\n",
        "model.add(keras.layers.Conv2D(128, kernel_size=(3, 3), activation='relu'))  \n",
        "model.add(keras.layers.MaxPooling2D(pool_size=(2, 2)))\n",
        "model.add(keras.layers.BatchNormalization(axis=-1))\n",
        "model.add(keras.layers.Conv2D(256, kernel_size=(3, 3), activation='relu'))  \n",
        "model.add(keras.layers.MaxPooling2D(pool_size=(2, 2)))\n",
        "model.add(keras.layers.BatchNormalization(axis=-1))\n",
        "model.add(keras.layers.Flatten())\n",
        "model.add(keras.layers.Dense(32, activation='relu'))\n",
        "model.add(keras.layers.Dense(16, activation='relu'))\n",
        "model.add(keras.layers.Dense(8, activation='softmax'))\n",
        "model.compile(loss=\"sparse_categorical_crossentropy\",\n",
        "              optimizer = keras.optimizers.Adam(learning_rate=3e-4),\n",
        "              metrics=[\"accuracy\"])\n",
        "model.summary()"
      ]
    },
    {
      "cell_type": "code",
      "source": [
        "loss = model.fit(X_train, y_train, validation_data=(X_test, y_test), epochs=8)"
      ],
      "metadata": {
        "colab": {
          "base_uri": "https://localhost:8080/"
        },
        "id": "jsyzQmg7NCHT",
        "outputId": "710403d5-24f8-499f-d97e-76729c62b3b2"
      },
      "id": "jsyzQmg7NCHT",
      "execution_count": null,
      "outputs": [
        {
          "output_type": "stream",
          "name": "stdout",
          "text": [
            "Epoch 1/8\n",
            "219/219 [==============================] - 5s 17ms/step - loss: 1.1357 - accuracy: 0.5754 - val_loss: 3.0182 - val_accuracy: 0.1520\n",
            "Epoch 2/8\n",
            "219/219 [==============================] - 3s 15ms/step - loss: 0.3146 - accuracy: 0.9294 - val_loss: 4.4407 - val_accuracy: 0.2587\n",
            "Epoch 3/8\n",
            "219/219 [==============================] - 3s 15ms/step - loss: 0.1655 - accuracy: 0.9706 - val_loss: 1.8614 - val_accuracy: 0.3790\n",
            "Epoch 4/8\n",
            "219/219 [==============================] - 3s 14ms/step - loss: 0.1101 - accuracy: 0.9806 - val_loss: 0.1899 - val_accuracy: 0.9580\n",
            "Epoch 5/8\n",
            "219/219 [==============================] - 3s 14ms/step - loss: 0.0884 - accuracy: 0.9807 - val_loss: 0.1966 - val_accuracy: 0.9657\n",
            "Epoch 6/8\n",
            "219/219 [==============================] - 3s 14ms/step - loss: 0.0675 - accuracy: 0.9850 - val_loss: 0.1691 - val_accuracy: 0.9723\n",
            "Epoch 7/8\n",
            "219/219 [==============================] - 3s 15ms/step - loss: 0.0517 - accuracy: 0.9874 - val_loss: 0.1611 - val_accuracy: 0.9747\n",
            "Epoch 8/8\n",
            "219/219 [==============================] - 3s 14ms/step - loss: 0.0403 - accuracy: 0.9887 - val_loss: 0.1961 - val_accuracy: 0.9640\n"
          ]
        }
      ]
    },
    {
      "cell_type": "code",
      "execution_count": null,
      "id": "c317495c",
      "metadata": {
        "id": "c317495c",
        "colab": {
          "base_uri": "https://localhost:8080/"
        },
        "outputId": "8a23329a-3751-49bf-d6c6-a65b11aa86d2"
      },
      "outputs": [
        {
          "output_type": "stream",
          "name": "stdout",
          "text": [
            "Accuracy on test set - 96.40%\n"
          ]
        }
      ],
      "source": [
        "pred = model.predict(X_test).argmax(axis=1)\n",
        "\n",
        "print('Accuracy on test set - {0:.02%}'.format((pred == y_test).mean()))"
      ]
    },
    {
      "cell_type": "code",
      "execution_count": null,
      "id": "0cae68da",
      "metadata": {
        "id": "0cae68da"
      },
      "outputs": [],
      "source": [
        "model.save('2_model_CNN.h5')"
      ]
    },
    {
      "cell_type": "markdown",
      "source": [
        "ant simple test set'o gauname "
      ],
      "metadata": {
        "id": "cwntFyO_P4yb"
      },
      "id": "cwntFyO_P4yb"
    },
    {
      "cell_type": "code",
      "source": [
        "model = keras.models.load_model('2_model_CNN.h5')\n",
        "evaluate('flatland_train.data', model)"
      ],
      "metadata": {
        "colab": {
          "base_uri": "https://localhost:8080/"
        },
        "id": "hS4b6rPcvWIf",
        "outputId": "361aca28-cf16-466a-8e48-62664d8a0df5"
      },
      "id": "hS4b6rPcvWIf",
      "execution_count": null,
      "outputs": [
        {
          "output_type": "execute_result",
          "data": {
            "text/plain": [
              "0.9809"
            ]
          },
          "metadata": {},
          "execution_count": 20
        }
      ]
    },
    {
      "cell_type": "code",
      "source": [
        "import pandas as pd"
      ],
      "metadata": {
        "id": "2CNO2Az83Yh1"
      },
      "id": "2CNO2Az83Yh1",
      "execution_count": null,
      "outputs": []
    },
    {
      "cell_type": "code",
      "source": [
        "pd.DataFrame(loss.history)[['loss','val_loss']].plot()"
      ],
      "metadata": {
        "colab": {
          "base_uri": "https://localhost:8080/",
          "height": 282
        },
        "id": "4lMtkIBV3WA_",
        "outputId": "12d4af6b-24f8-4825-ee12-ec79b4cbd755"
      },
      "id": "4lMtkIBV3WA_",
      "execution_count": null,
      "outputs": [
        {
          "output_type": "execute_result",
          "data": {
            "text/plain": [
              "<matplotlib.axes._subplots.AxesSubplot at 0x7ff734758890>"
            ]
          },
          "metadata": {},
          "execution_count": 22
        },
        {
          "output_type": "display_data",
          "data": {
            "image/png": "[encoded data removed]",
            "text/plain": [
              "<Figure size 432x288 with 1 Axes>"
            ]
          },
          "metadata": {
            "needs_background": "light"
          }
        }
      ]
    },
    {
      "cell_type": "code",
      "source": [
        "model = keras.models.Sequential()\n",
        "model.add(keras.layers.Conv2D(32, kernel_size=(3, 3), activation='relu', input_shape=[50, 50, 1])) \n",
        "model.add(keras.layers.BatchNormalization(axis=-1)) \n",
        "model.add(keras.layers.MaxPooling2D(pool_size=(2, 2)))\n",
        "model.add(keras.layers.Conv2D(64, kernel_size=(3, 3), activation='relu'))  \n",
        "model.add(keras.layers.MaxPooling2D(pool_size=(2, 2)))\n",
        "model.add(keras.layers.BatchNormalization(axis=-1))\n",
        "model.add(keras.layers.Flatten())\n",
        "model.add(keras.layers.Dense(64, activation='relu'))\n",
        "model.add(keras.layers.Dense(20, activation='relu'))\n",
        "model.add(keras.layers.Dense(10, activation='softmax'))\n",
        "model.compile(loss=\"sparse_categorical_crossentropy\",\n",
        "              optimizer = keras.optimizers.Adam(learning_rate=3e-4),\n",
        "              metrics=[\"accuracy\"])\n",
        "model.summary()"
      ],
      "metadata": {
        "colab": {
          "base_uri": "https://localhost:8080/"
        },
        "id": "FiK0LKGdvart",
        "outputId": "5d48a1f3-87d2-43c7-b192-70066985cf5b"
      },
      "id": "FiK0LKGdvart",
      "execution_count": 6,
      "outputs": [
        {
          "output_type": "stream",
          "name": "stdout",
          "text": [
            "Model: \"sequential\"\n",
            "_________________________________________________________________\n",
            " Layer (type)                Output Shape              Param #   \n",
            "=================================================================\n",
            " conv2d (Conv2D)             (None, 48, 48, 32)        320       \n",
            "                                                                 \n",
            " batch_normalization (BatchN  (None, 48, 48, 32)       128       \n",
            " ormalization)                                                   \n",
            "                                                                 \n",
            " max_pooling2d (MaxPooling2D  (None, 24, 24, 32)       0         \n",
            " )                                                               \n",
            "                                                                 \n",
            " conv2d_1 (Conv2D)           (None, 22, 22, 64)        18496     \n",
            "                                                                 \n",
            " max_pooling2d_1 (MaxPooling  (None, 11, 11, 64)       0         \n",
            " 2D)                                                             \n",
            "                                                                 \n",
            " batch_normalization_1 (Batc  (None, 11, 11, 64)       256       \n",
            " hNormalization)                                                 \n",
            "                                                                 \n",
            " flatten (Flatten)           (None, 7744)              0         \n",
            "                                                                 \n",
            " dense (Dense)               (None, 64)                495680    \n",
            "                                                                 \n",
            " dense_1 (Dense)             (None, 20)                1300      \n",
            "                                                                 \n",
            " dense_2 (Dense)             (None, 10)                210       \n",
            "                                                                 \n",
            "=================================================================\n",
            "Total params: 516,390\n",
            "Trainable params: 516,198\n",
            "Non-trainable params: 192\n",
            "_________________________________________________________________\n"
          ]
        }
      ]
    },
    {
      "cell_type": "code",
      "source": [
        "loss = model.fit(X_train, y_train, validation_data=(X_test, y_test), epochs=20)"
      ],
      "metadata": {
        "colab": {
          "base_uri": "https://localhost:8080/"
        },
        "id": "EeZS8C83xj0s",
        "outputId": "b15f3d01-eea7-40cb-f3ab-d1d7f9c0a9f1"
      },
      "id": "EeZS8C83xj0s",
      "execution_count": null,
      "outputs": [
        {
          "output_type": "stream",
          "name": "stdout",
          "text": [
            "Epoch 1/20\n",
            "219/219 [==============================] - 4s 14ms/step - loss: 1.2457 - accuracy: 0.5217 - val_loss: 2.6485 - val_accuracy: 0.2280\n",
            "Epoch 2/20\n",
            "219/219 [==============================] - 3s 12ms/step - loss: 0.5861 - accuracy: 0.7950 - val_loss: 4.7310 - val_accuracy: 0.2380\n",
            "Epoch 3/20\n",
            "219/219 [==============================] - 3s 12ms/step - loss: 0.3439 - accuracy: 0.8936 - val_loss: 2.9196 - val_accuracy: 0.3140\n",
            "Epoch 4/20\n",
            "219/219 [==============================] - 2s 11ms/step - loss: 0.2039 - accuracy: 0.9509 - val_loss: 0.4492 - val_accuracy: 0.8560\n",
            "Epoch 5/20\n",
            "219/219 [==============================] - 3s 12ms/step - loss: 0.1324 - accuracy: 0.9693 - val_loss: 0.3041 - val_accuracy: 0.9230\n",
            "Epoch 6/20\n",
            "219/219 [==============================] - 2s 11ms/step - loss: 0.0806 - accuracy: 0.9816 - val_loss: 0.2755 - val_accuracy: 0.9350\n",
            "Epoch 7/20\n",
            "219/219 [==============================] - 2s 11ms/step - loss: 0.0487 - accuracy: 0.9901 - val_loss: 0.2332 - val_accuracy: 0.9500\n",
            "Epoch 8/20\n",
            "219/219 [==============================] - 2s 11ms/step - loss: 0.0362 - accuracy: 0.9914 - val_loss: 0.2444 - val_accuracy: 0.9517\n",
            "Epoch 9/20\n",
            "219/219 [==============================] - 2s 11ms/step - loss: 0.0219 - accuracy: 0.9966 - val_loss: 0.2340 - val_accuracy: 0.9593\n",
            "Epoch 10/20\n",
            "219/219 [==============================] - 3s 12ms/step - loss: 0.0094 - accuracy: 0.9991 - val_loss: 0.2286 - val_accuracy: 0.9587\n",
            "Epoch 11/20\n",
            "219/219 [==============================] - 3s 12ms/step - loss: 0.0066 - accuracy: 0.9994 - val_loss: 0.2353 - val_accuracy: 0.9603\n",
            "Epoch 12/20\n",
            "219/219 [==============================] - 2s 11ms/step - loss: 0.0043 - accuracy: 0.9997 - val_loss: 0.2325 - val_accuracy: 0.9627\n",
            "Epoch 13/20\n",
            "219/219 [==============================] - 3s 12ms/step - loss: 0.0033 - accuracy: 0.9999 - val_loss: 0.2429 - val_accuracy: 0.9637\n",
            "Epoch 14/20\n",
            "219/219 [==============================] - 3s 12ms/step - loss: 0.0145 - accuracy: 0.9966 - val_loss: 0.3774 - val_accuracy: 0.9190\n",
            "Epoch 15/20\n",
            "219/219 [==============================] - 2s 11ms/step - loss: 0.0907 - accuracy: 0.9739 - val_loss: 0.5169 - val_accuracy: 0.8653\n",
            "Epoch 16/20\n",
            "219/219 [==============================] - 3s 12ms/step - loss: 0.0552 - accuracy: 0.9841 - val_loss: 0.3344 - val_accuracy: 0.9320\n",
            "Epoch 17/20\n",
            "219/219 [==============================] - 2s 11ms/step - loss: 0.0355 - accuracy: 0.9913 - val_loss: 0.3962 - val_accuracy: 0.9177\n",
            "Epoch 18/20\n",
            "219/219 [==============================] - 3s 13ms/step - loss: 0.0125 - accuracy: 0.9967 - val_loss: 0.2696 - val_accuracy: 0.9643\n",
            "Epoch 19/20\n",
            "219/219 [==============================] - 3s 12ms/step - loss: 0.0061 - accuracy: 0.9987 - val_loss: 0.2786 - val_accuracy: 0.9663\n",
            "Epoch 20/20\n",
            "219/219 [==============================] - 2s 11ms/step - loss: 0.0055 - accuracy: 0.9986 - val_loss: 0.2733 - val_accuracy: 0.9633\n"
          ]
        }
      ]
    },
    {
      "cell_type": "code",
      "source": [
        "pred = model.predict(X_test).argmax(axis=1)\n",
        "\n",
        "print('Accuracy on test set - {0:.02%}'.format((pred == y_test).mean()))"
      ],
      "metadata": {
        "colab": {
          "base_uri": "https://localhost:8080/"
        },
        "id": "nzYQkaJ-xn6P",
        "outputId": "89a9d2db-f0bd-47ce-ba6b-1c0a321e3db3"
      },
      "id": "nzYQkaJ-xn6P",
      "execution_count": null,
      "outputs": [
        {
          "output_type": "stream",
          "name": "stdout",
          "text": [
            "Accuracy on test set - 96.33%\n"
          ]
        }
      ]
    },
    {
      "cell_type": "code",
      "source": [
        "model.save('model_CNN_cnn.h5')"
      ],
      "metadata": {
        "id": "765GCal2yChs"
      },
      "id": "765GCal2yChs",
      "execution_count": null,
      "outputs": []
    },
    {
      "cell_type": "code",
      "source": [
        "model = keras.models.load_model('model_CNN_cnn.h5')\n",
        "evaluate('flatland_train.data', model)"
      ],
      "metadata": {
        "colab": {
          "base_uri": "https://localhost:8080/"
        },
        "id": "BJbx6fKFyGgP",
        "outputId": "f351da8e-b7f1-4d94-f2ee-bb3765c411f4"
      },
      "id": "BJbx6fKFyGgP",
      "execution_count": null,
      "outputs": [
        {
          "output_type": "execute_result",
          "data": {
            "text/plain": [
              "0.9883"
            ]
          },
          "metadata": {},
          "execution_count": 93
        }
      ]
    },
    {
      "cell_type": "markdown",
      "source": [
        "![image.png](data:image/png;base64,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)"
      ],
      "metadata": {
        "id": "jH7RIU1JpXlM"
      },
      "id": "jH7RIU1JpXlM"
    },
    {
      "cell_type": "code",
      "source": [
        "model = keras.models.Sequential()\n",
        "model.add(keras.layers.Conv2D(32, kernel_size=(3, 3), activation='relu', input_shape=[50, 50, 1])) \n",
        "model.add(keras.layers.BatchNormalization(axis=-1)) \n",
        "model.add(keras.layers.MaxPooling2D())\n",
        "model.add(keras.layers.Conv2D(32, kernel_size=(3, 3), activation='relu'))  \n",
        "model.add(keras.layers.BatchNormalization(axis=-1)) \n",
        "model.add(keras.layers.MaxPooling2D())\n",
        "model.add(keras.layers.Conv2D(32, kernel_size=(3, 3), activation='relu'))  \n",
        "model.add(keras.layers.BatchNormalization(axis=-1)) \n",
        "model.add(keras.layers.MaxPooling2D())\n",
        "model.add(keras.layers.Flatten())\n",
        "model.add(keras.layers.Dense(256, activation='relu'))\n",
        "model.add(keras.layers.Dropout(0.2))\n",
        "model.add(keras.layers.Dense(128, activation='relu'))\n",
        "model.add(keras.layers.Dropout(0.4))\n",
        "model.add(keras.layers.Dense(10, activation='softmax'))\n",
        "model.compile(loss=\"sparse_categorical_crossentropy\",\n",
        "              optimizer = keras.optimizers.Adam(learning_rate=3e-4),\n",
        "              metrics=[\"accuracy\"])\n",
        "model.summary()"
      ],
      "metadata": {
        "id": "lOYSsbbsyL_G",
        "colab": {
          "base_uri": "https://localhost:8080/"
        },
        "outputId": "4876857e-9c50-4143-d5b8-d71857ee9259"
      },
      "id": "lOYSsbbsyL_G",
      "execution_count": 11,
      "outputs": [
        {
          "output_type": "stream",
          "name": "stdout",
          "text": [
            "Model: \"sequential_5\"\n",
            "_________________________________________________________________\n",
            " Layer (type)                Output Shape              Param #   \n",
            "=================================================================\n",
            " conv2d_14 (Conv2D)          (None, 48, 48, 32)        320       \n",
            "                                                                 \n",
            " batch_normalization_14 (Bat  (None, 48, 48, 32)       128       \n",
            " chNormalization)                                                \n",
            "                                                                 \n",
            " max_pooling2d_14 (MaxPoolin  (None, 24, 24, 32)       0         \n",
            " g2D)                                                            \n",
            "                                                                 \n",
            " conv2d_15 (Conv2D)          (None, 22, 22, 32)        9248      \n",
            "                                                                 \n",
            " batch_normalization_15 (Bat  (None, 22, 22, 32)       128       \n",
            " chNormalization)                                                \n",
            "                                                                 \n",
            " max_pooling2d_15 (MaxPoolin  (None, 11, 11, 32)       0         \n",
            " g2D)                                                            \n",
            "                                                                 \n",
            " conv2d_16 (Conv2D)          (None, 9, 9, 32)          9248      \n",
            "                                                                 \n",
            " batch_normalization_16 (Bat  (None, 9, 9, 32)         128       \n",
            " chNormalization)                                                \n",
            "                                                                 \n",
            " max_pooling2d_16 (MaxPoolin  (None, 4, 4, 32)         0         \n",
            " g2D)                                                            \n",
            "                                                                 \n",
            " flatten_5 (Flatten)         (None, 512)               0         \n",
            "                                                                 \n",
            " dense_15 (Dense)            (None, 256)               131328    \n",
            "                                                                 \n",
            " dropout_10 (Dropout)        (None, 256)               0         \n",
            "                                                                 \n",
            " dense_16 (Dense)            (None, 128)               32896     \n",
            "                                                                 \n",
            " dropout_11 (Dropout)        (None, 128)               0         \n",
            "                                                                 \n",
            " dense_17 (Dense)            (None, 10)                1290      \n",
            "                                                                 \n",
            "=================================================================\n",
            "Total params: 184,714\n",
            "Trainable params: 184,522\n",
            "Non-trainable params: 192\n",
            "_________________________________________________________________\n"
          ]
        }
      ]
    },
    {
      "cell_type": "code",
      "source": [
        "loss = model.fit(X_train, y_train, validation_data=(X_test, y_test), epochs=50, batch_size=128)"
      ],
      "metadata": {
        "colab": {
          "base_uri": "https://localhost:8080/"
        },
        "id": "-NufF4hkoOmk",
        "outputId": "0ad1b7d5-cb2d-4c80-98a2-a2a401d644d4"
      },
      "id": "-NufF4hkoOmk",
      "execution_count": 12,
      "outputs": [
        {
          "output_type": "stream",
          "name": "stdout",
          "text": [
            "Epoch 1/50\n",
            "55/55 [==============================] - 4s 31ms/step - loss: 1.8504 - accuracy: 0.3336 - val_loss: 2.1881 - val_accuracy: 0.2060\n",
            "Epoch 2/50\n",
            "55/55 [==============================] - 1s 22ms/step - loss: 1.2954 - accuracy: 0.4727 - val_loss: 2.1091 - val_accuracy: 0.2010\n",
            "Epoch 3/50\n",
            "55/55 [==============================] - 1s 22ms/step - loss: 1.0492 - accuracy: 0.5779 - val_loss: 2.1725 - val_accuracy: 0.1520\n",
            "Epoch 4/50\n",
            "55/55 [==============================] - 1s 22ms/step - loss: 0.8306 - accuracy: 0.6699 - val_loss: 2.6566 - val_accuracy: 0.1520\n",
            "Epoch 5/50\n",
            "55/55 [==============================] - 1s 24ms/step - loss: 0.6690 - accuracy: 0.7497 - val_loss: 3.2458 - val_accuracy: 0.1520\n",
            "Epoch 6/50\n",
            "55/55 [==============================] - 1s 24ms/step - loss: 0.5197 - accuracy: 0.8196 - val_loss: 4.0751 - val_accuracy: 0.1523\n",
            "Epoch 7/50\n",
            "55/55 [==============================] - 1s 22ms/step - loss: 0.4147 - accuracy: 0.8629 - val_loss: 3.8388 - val_accuracy: 0.1707\n",
            "Epoch 8/50\n",
            "55/55 [==============================] - 1s 22ms/step - loss: 0.3345 - accuracy: 0.9026 - val_loss: 3.2269 - val_accuracy: 0.2387\n",
            "Epoch 9/50\n",
            "55/55 [==============================] - 1s 22ms/step - loss: 0.3006 - accuracy: 0.9134 - val_loss: 2.3287 - val_accuracy: 0.3230\n",
            "Epoch 10/50\n",
            "55/55 [==============================] - 1s 22ms/step - loss: 0.2669 - accuracy: 0.9286 - val_loss: 1.3460 - val_accuracy: 0.4387\n",
            "Epoch 11/50\n",
            "55/55 [==============================] - 1s 23ms/step - loss: 0.2280 - accuracy: 0.9396 - val_loss: 0.6333 - val_accuracy: 0.7527\n",
            "Epoch 12/50\n",
            "55/55 [==============================] - 1s 26ms/step - loss: 0.2078 - accuracy: 0.9469 - val_loss: 0.4142 - val_accuracy: 0.8547\n",
            "Epoch 13/50\n",
            "55/55 [==============================] - 2s 28ms/step - loss: 0.1915 - accuracy: 0.9527 - val_loss: 0.2665 - val_accuracy: 0.9283\n",
            "Epoch 14/50\n",
            "55/55 [==============================] - 1s 26ms/step - loss: 0.1745 - accuracy: 0.9589 - val_loss: 0.2313 - val_accuracy: 0.9457\n",
            "Epoch 15/50\n",
            "55/55 [==============================] - 1s 24ms/step - loss: 0.1546 - accuracy: 0.9629 - val_loss: 0.2216 - val_accuracy: 0.9487\n",
            "Epoch 16/50\n",
            "55/55 [==============================] - 1s 22ms/step - loss: 0.1391 - accuracy: 0.9657 - val_loss: 0.2094 - val_accuracy: 0.9563\n",
            "Epoch 17/50\n",
            "55/55 [==============================] - 1s 25ms/step - loss: 0.1262 - accuracy: 0.9700 - val_loss: 0.2160 - val_accuracy: 0.9480\n",
            "Epoch 18/50\n",
            "55/55 [==============================] - 1s 22ms/step - loss: 0.1173 - accuracy: 0.9716 - val_loss: 0.2006 - val_accuracy: 0.9637\n",
            "Epoch 19/50\n",
            "55/55 [==============================] - 1s 25ms/step - loss: 0.1088 - accuracy: 0.9717 - val_loss: 0.1920 - val_accuracy: 0.9647\n",
            "Epoch 20/50\n",
            "55/55 [==============================] - 1s 22ms/step - loss: 0.0966 - accuracy: 0.9753 - val_loss: 0.2016 - val_accuracy: 0.9653\n",
            "Epoch 21/50\n",
            "55/55 [==============================] - 1s 22ms/step - loss: 0.0884 - accuracy: 0.9779 - val_loss: 0.1874 - val_accuracy: 0.9703\n",
            "Epoch 22/50\n",
            "55/55 [==============================] - 1s 25ms/step - loss: 0.0816 - accuracy: 0.9793 - val_loss: 0.2014 - val_accuracy: 0.9700\n",
            "Epoch 23/50\n",
            "55/55 [==============================] - 1s 22ms/step - loss: 0.0715 - accuracy: 0.9817 - val_loss: 0.2444 - val_accuracy: 0.9510\n",
            "Epoch 24/50\n",
            "55/55 [==============================] - 1s 22ms/step - loss: 0.0681 - accuracy: 0.9806 - val_loss: 0.1902 - val_accuracy: 0.9727\n",
            "Epoch 25/50\n",
            "55/55 [==============================] - 1s 22ms/step - loss: 0.0566 - accuracy: 0.9824 - val_loss: 0.2043 - val_accuracy: 0.9723\n",
            "Epoch 26/50\n",
            "55/55 [==============================] - 1s 24ms/step - loss: 0.0665 - accuracy: 0.9816 - val_loss: 0.2064 - val_accuracy: 0.9693\n",
            "Epoch 27/50\n",
            "55/55 [==============================] - 1s 24ms/step - loss: 0.0538 - accuracy: 0.9840 - val_loss: 0.2092 - val_accuracy: 0.9710\n",
            "Epoch 28/50\n",
            "55/55 [==============================] - 1s 22ms/step - loss: 0.0462 - accuracy: 0.9866 - val_loss: 0.1969 - val_accuracy: 0.9713\n",
            "Epoch 29/50\n",
            "55/55 [==============================] - 1s 22ms/step - loss: 0.0389 - accuracy: 0.9911 - val_loss: 0.2050 - val_accuracy: 0.9717\n",
            "Epoch 30/50\n",
            "55/55 [==============================] - 1s 22ms/step - loss: 0.0385 - accuracy: 0.9893 - val_loss: 0.2202 - val_accuracy: 0.9720\n",
            "Epoch 31/50\n",
            "55/55 [==============================] - 1s 22ms/step - loss: 0.0353 - accuracy: 0.9906 - val_loss: 0.2209 - val_accuracy: 0.9673\n",
            "Epoch 32/50\n",
            "55/55 [==============================] - 1s 22ms/step - loss: 0.0353 - accuracy: 0.9896 - val_loss: 0.2226 - val_accuracy: 0.9717\n",
            "Epoch 33/50\n",
            "55/55 [==============================] - 1s 24ms/step - loss: 0.0309 - accuracy: 0.9911 - val_loss: 0.2478 - val_accuracy: 0.9620\n",
            "Epoch 34/50\n",
            "55/55 [==============================] - 1s 22ms/step - loss: 0.0282 - accuracy: 0.9917 - val_loss: 0.2182 - val_accuracy: 0.9723\n",
            "Epoch 35/50\n",
            "55/55 [==============================] - 1s 25ms/step - loss: 0.0258 - accuracy: 0.9917 - val_loss: 0.2247 - val_accuracy: 0.9740\n",
            "Epoch 36/50\n",
            "55/55 [==============================] - 1s 23ms/step - loss: 0.0263 - accuracy: 0.9917 - val_loss: 0.2438 - val_accuracy: 0.9710\n",
            "Epoch 37/50\n",
            "55/55 [==============================] - 1s 27ms/step - loss: 0.0200 - accuracy: 0.9944 - val_loss: 0.2513 - val_accuracy: 0.9690\n",
            "Epoch 38/50\n",
            "55/55 [==============================] - 1s 27ms/step - loss: 0.0190 - accuracy: 0.9947 - val_loss: 0.2435 - val_accuracy: 0.9673\n",
            "Epoch 39/50\n",
            "55/55 [==============================] - 1s 26ms/step - loss: 0.0219 - accuracy: 0.9933 - val_loss: 0.2358 - val_accuracy: 0.9753\n",
            "Epoch 40/50\n",
            "55/55 [==============================] - 1s 24ms/step - loss: 0.0199 - accuracy: 0.9940 - val_loss: 0.2561 - val_accuracy: 0.9673\n",
            "Epoch 41/50\n",
            "55/55 [==============================] - 1s 24ms/step - loss: 0.0186 - accuracy: 0.9943 - val_loss: 0.2409 - val_accuracy: 0.9733\n",
            "Epoch 42/50\n",
            "55/55 [==============================] - 1s 22ms/step - loss: 0.0196 - accuracy: 0.9943 - val_loss: 0.2779 - val_accuracy: 0.9617\n",
            "Epoch 43/50\n",
            "55/55 [==============================] - 1s 22ms/step - loss: 0.0192 - accuracy: 0.9940 - val_loss: 0.2722 - val_accuracy: 0.9670\n",
            "Epoch 44/50\n",
            "55/55 [==============================] - 1s 24ms/step - loss: 0.0197 - accuracy: 0.9956 - val_loss: 0.2598 - val_accuracy: 0.9683\n",
            "Epoch 45/50\n",
            "55/55 [==============================] - 1s 22ms/step - loss: 0.0168 - accuracy: 0.9963 - val_loss: 0.2358 - val_accuracy: 0.9737\n",
            "Epoch 46/50\n",
            "55/55 [==============================] - 1s 22ms/step - loss: 0.0148 - accuracy: 0.9959 - val_loss: 0.2476 - val_accuracy: 0.9743\n",
            "Epoch 47/50\n",
            "55/55 [==============================] - 1s 24ms/step - loss: 0.0114 - accuracy: 0.9971 - val_loss: 0.2567 - val_accuracy: 0.9727\n",
            "Epoch 48/50\n",
            "55/55 [==============================] - 1s 25ms/step - loss: 0.0117 - accuracy: 0.9960 - val_loss: 0.2729 - val_accuracy: 0.9713\n",
            "Epoch 49/50\n",
            "55/55 [==============================] - 1s 22ms/step - loss: 0.0116 - accuracy: 0.9967 - val_loss: 0.2504 - val_accuracy: 0.9743\n",
            "Epoch 50/50\n",
            "55/55 [==============================] - 1s 25ms/step - loss: 0.0127 - accuracy: 0.9964 - val_loss: 0.2708 - val_accuracy: 0.9703\n"
          ]
        }
      ]
    },
    {
      "cell_type": "code",
      "source": [
        "pred = model.predict(X_test).argmax(axis=1)\n",
        "\n",
        "print('Accuracy on test set - {0:.02%}'.format((pred == y_test).mean()))"
      ],
      "metadata": {
        "colab": {
          "base_uri": "https://localhost:8080/"
        },
        "id": "WVr9PtGFoU16",
        "outputId": "da2cf707-8d29-4a16-fc40-197dc983a129"
      },
      "id": "WVr9PtGFoU16",
      "execution_count": 13,
      "outputs": [
        {
          "output_type": "stream",
          "name": "stdout",
          "text": [
            "Accuracy on test set - 97.03%\n"
          ]
        }
      ]
    },
    {
      "cell_type": "code",
      "source": [
        "model.save('modelis_CNN.h5')"
      ],
      "metadata": {
        "id": "t_bZWtyFoYSb"
      },
      "id": "t_bZWtyFoYSb",
      "execution_count": 14,
      "outputs": []
    },
    {
      "cell_type": "code",
      "source": [
        "model = keras.models.load_model('modelis_CNN.h5')\n",
        "evaluate('flatland_train.data', model)"
      ],
      "metadata": {
        "colab": {
          "base_uri": "https://localhost:8080/"
        },
        "id": "6jBQJLGFo4dA",
        "outputId": "e296b9d7-3d49-41da-ea4a-7d8f3b108d7e"
      },
      "id": "6jBQJLGFo4dA",
      "execution_count": 15,
      "outputs": [
        {
          "output_type": "execute_result",
          "data": {
            "text/plain": [
              "0.9904"
            ]
          },
          "metadata": {},
          "execution_count": 15
        }
      ]
    },
    {
      "cell_type": "markdown",
      "source": [
        "![image.png](data:image/png;base64,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)\n",
        "\n",
        "Gavome blogesnį rezultatą su advanced dataset'u, kol kas geriausias buvo su modeliu 1_model_CNN.h5"
      ],
      "metadata": {
        "id": "ab8YL9OXqBxa"
      },
      "id": "ab8YL9OXqBxa"
    },
    {
      "cell_type": "markdown",
      "source": [
        "# Transfer learning"
      ],
      "metadata": {
        "id": "dRGSKyt0ycfa"
      },
      "id": "dRGSKyt0ycfa"
    },
    {
      "cell_type": "code",
      "source": [
        "# Default input is 32x32x3, it might de different in your application\n",
        "mobile_net = keras.applications.MobileNet(weights='imagenet', include_top=False, input_shape=(32, 32, 3))\n",
        "\n",
        "# Let's fix those weights\n",
        "for layer in mobile_net.layers:\n",
        "    layer.trainable = False\n",
        "    \n",
        "# Adding new trainable Dense layers\n",
        "inputs = keras.layers.Input(shape=(32, 32, 3))\n",
        "# Note that we might need to upsample our images if they are too small (less than 32x32), this is done via:\n",
        "# inputs = keras.layers.UpSampling2D((2, 2))(inputs)\n",
        "embedding = mobile_net(inputs)\n",
        "# Output shape for sure is problem dependant, but this should give you the idea\n",
        "output = keras.layers.Flatten()(embedding)\n",
        "output = keras.layers.Dense(10, activation='softmax')(output)\n",
        "# Build the model\n",
        "model = keras.models.Model(inputs=inputs, outputs=output)\n",
        "model.summary()"
      ],
      "metadata": {
        "id": "bsphCheApU0_"
      },
      "id": "bsphCheApU0_",
      "execution_count": null,
      "outputs": []
    }
  ],
  "metadata": {
    "kernelspec": {
      "display_name": "Python 3 (ipykernel)",
      "language": "python",
      "name": "python3"
    },
    "language_info": {
      "codemirror_mode": {
        "name": "ipython",
        "version": 3
      },
      "file_extension": ".py",
      "mimetype": "text/x-python",
      "name": "python",
      "nbconvert_exporter": "python",
      "pygments_lexer": "ipython3",
      "version": "3.8.10"
    },
    "colab": {
      "name": "Info flatlandui.ipynb",
      "provenance": [],
      "collapsed_sections": []
    },
    "accelerator": "GPU"
  },
  "nbformat": 4,
  "nbformat_minor": 5
}